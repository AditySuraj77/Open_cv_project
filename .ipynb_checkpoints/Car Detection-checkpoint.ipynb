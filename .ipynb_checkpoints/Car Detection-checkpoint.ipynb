{
 "cells": [
  {
   "cell_type": "code",
   "execution_count": 1,
   "id": "36c1d65e",
   "metadata": {},
   "outputs": [],
   "source": [
    "import cv2"
   ]
  },
  {
   "cell_type": "markdown",
   "id": "756bdcd6",
   "metadata": {},
   "source": [
    "# Car Detect"
   ]
  },
  {
   "cell_type": "code",
   "execution_count": 2,
   "id": "9682f5ec",
   "metadata": {},
   "outputs": [],
   "source": [
    "car_detect = cv2.CascadeClassifier('haarcascade_car.xml')"
   ]
  },
  {
   "cell_type": "code",
   "execution_count": 26,
   "id": "e8cf22fb",
   "metadata": {},
   "outputs": [],
   "source": [
    "cap = cv2.VideoCapture('Traffic.mp4')\n",
    "\n",
    "while cap.isOpened():\n",
    "    ret, frame =  cap.read()\n",
    "    \n",
    "    if ret == True:\n",
    "        gray_frame = cv2.cvtColor(frame,cv2.COLOR_BGR2GRAY)\n",
    "        cars = car_detect.detectMultiScale(gray_frame,1.5,1)\n",
    "        for (x, y, w, h) in cars:\n",
    "            cv2.rectangle(frame, (x, y), (x+w, y+h), (0, 255, 200), thickness=2) \n",
    "        \n",
    "        cv2.imshow('video',frame)\n",
    "        \n",
    "        k = cv2.waitKey(1)\n",
    "        \n",
    "        if k == 27:\n",
    "            break\n",
    "cap.release()\n",
    "cv2.destroyAllWindows()"
   ]
  },
  {
   "cell_type": "code",
   "execution_count": null,
   "id": "e49ac5fd",
   "metadata": {},
   "outputs": [],
   "source": []
  }
 ],
 "metadata": {
  "kernelspec": {
   "display_name": "Python 3 (ipykernel)",
   "language": "python",
   "name": "python3"
  },
  "language_info": {
   "codemirror_mode": {
    "name": "ipython",
    "version": 3
   },
   "file_extension": ".py",
   "mimetype": "text/x-python",
   "name": "python",
   "nbconvert_exporter": "python",
   "pygments_lexer": "ipython3",
   "version": "3.11.2"
  }
 },
 "nbformat": 4,
 "nbformat_minor": 5
}
