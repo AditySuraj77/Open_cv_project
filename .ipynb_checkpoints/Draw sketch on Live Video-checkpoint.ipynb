{
 "cells": [
  {
   "cell_type": "code",
   "execution_count": 1,
   "id": "9df40b42",
   "metadata": {},
   "outputs": [],
   "source": [
    "import cv2"
   ]
  },
  {
   "cell_type": "code",
   "execution_count": 6,
   "id": "b3ac0a4b",
   "metadata": {},
   "outputs": [],
   "source": [
    "def sketch(image):\n",
    "    # convert color to black & white format\n",
    "    gray_img = cv2.cvtColor(image,cv2.COLOR_BGR2GRAY)\n",
    "    \n",
    "    # blurr images\n",
    "    blurr_img = cv2.GaussianBlur(gray_img,(5,5),0)\n",
    "    \n",
    "    #edge detect\n",
    "    edge_img = cv2.Canny(blurr_img,20,40)\n",
    "    \n",
    "    return edge_img\n",
    "     "
   ]
  },
  {
   "cell_type": "code",
   "execution_count": 7,
   "id": "046fa5ff",
   "metadata": {},
   "outputs": [],
   "source": [
    "cap = cv2.VideoCapture(0)\n",
    "\n",
    "while cap.isOpened():\n",
    "    ret, frame = cap.read()\n",
    "    \n",
    "    if ret == True:\n",
    "        \n",
    "        cv2.imshow('edgeimg',sketch(frame))\n",
    "        \n",
    "        k = cv2.waitKey(1)\n",
    "        \n",
    "        if k == 27:\n",
    "            break\n",
    "cap.release()\n",
    "cv2.destroyAllWindows()"
   ]
  },
  {
   "cell_type": "code",
   "execution_count": null,
   "id": "6d19ab63",
   "metadata": {},
   "outputs": [],
   "source": []
  }
 ],
 "metadata": {
  "kernelspec": {
   "display_name": "Python 3 (ipykernel)",
   "language": "python",
   "name": "python3"
  },
  "language_info": {
   "codemirror_mode": {
    "name": "ipython",
    "version": 3
   },
   "file_extension": ".py",
   "mimetype": "text/x-python",
   "name": "python",
   "nbconvert_exporter": "python",
   "pygments_lexer": "ipython3",
   "version": "3.11.2"
  }
 },
 "nbformat": 4,
 "nbformat_minor": 5
}
