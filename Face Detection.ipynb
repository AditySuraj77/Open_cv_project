{
 "cells": [
  {
   "cell_type": "code",
   "execution_count": 1,
   "id": "83ab5b17",
   "metadata": {},
   "outputs": [],
   "source": [
    "import cv2"
   ]
  },
  {
   "cell_type": "markdown",
   "id": "be182b92",
   "metadata": {},
   "source": [
    "# Facedect while using images"
   ]
  },
  {
   "cell_type": "code",
   "execution_count": 34,
   "id": "a296ed11",
   "metadata": {},
   "outputs": [],
   "source": [
    "eye_cascade = cv2.CascadeClassifier('haarcascade_eye.xml')\n",
    "facs_cascade = cv2.CascadeClassifier('haarcascade_frontalface_default.xml')"
   ]
  },
  {
   "cell_type": "code",
   "execution_count": 38,
   "id": "55271ed3",
   "metadata": {},
   "outputs": [],
   "source": [
    "img = cv2.imread('virat.jfif')\n"
   ]
  },
  {
   "cell_type": "code",
   "execution_count": 39,
   "id": "e1f57d6b",
   "metadata": {},
   "outputs": [],
   "source": [
    "gray_img = cv2.cvtColor(img, cv2.COLOR_BGR2GRAY)\n"
   ]
  },
  {
   "cell_type": "code",
   "execution_count": 42,
   "id": "19bff1c6",
   "metadata": {},
   "outputs": [],
   "source": [
    "faces = facs_cascade.detectMultiScale(gray_img,1.1,5)"
   ]
  },
  {
   "cell_type": "code",
   "execution_count": 43,
   "id": "a21de701",
   "metadata": {},
   "outputs": [],
   "source": [
    "for (x, y, w, h) in faces: \n",
    "    cv2.rectangle(img, (x, y), (x+w, y+h), (0, 255, 0), thickness=2) \n",
    "    \n",
    "cv2.imshow('img',img)\n",
    "cv2.waitKey(0)\n",
    "cv2.destroyAllWindows()"
   ]
  },
  {
   "cell_type": "markdown",
   "id": "ed3668de",
   "metadata": {},
   "source": [
    "# Live Face Detect"
   ]
  },
  {
   "cell_type": "code",
   "execution_count": 44,
   "id": "8cab3e2d",
   "metadata": {},
   "outputs": [],
   "source": [
    "cap = cv2.VideoCapture(0)\n",
    "\n",
    "while cap.isOpened():\n",
    "    ret, frame =  cap.read()\n",
    "    \n",
    "    if ret == True:\n",
    "        gray_frame = cv2.cvtColor(frame,cv2.COLOR_BGR2GRAY)\n",
    "        faces = facs_cascade.detectMultiScale(gray_frame,1.5,9)\n",
    "        for (x, y, w, h) in faces:\n",
    "            cv2.rectangle(frame, (x, y), (x+w, y+h), (0, 255, 0), thickness=2) \n",
    "        \n",
    "        cv2.imshow('video',frame)\n",
    "        \n",
    "        k = cv2.waitKey(1)\n",
    "        \n",
    "        if k == 27:\n",
    "            break\n",
    "cap.release()\n",
    "cv2.destroyAllWindows()"
   ]
  },
  {
   "cell_type": "code",
   "execution_count": null,
   "id": "1a83dd29",
   "metadata": {},
   "outputs": [],
   "source": []
  }
 ],
 "metadata": {
  "kernelspec": {
   "display_name": "Python 3 (ipykernel)",
   "language": "python",
   "name": "python3"
  },
  "language_info": {
   "codemirror_mode": {
    "name": "ipython",
    "version": 3
   },
   "file_extension": ".py",
   "mimetype": "text/x-python",
   "name": "python",
   "nbconvert_exporter": "python",
   "pygments_lexer": "ipython3",
   "version": "3.11.2"
  }
 },
 "nbformat": 4,
 "nbformat_minor": 5
}
