{
 "cells": [
  {
   "cell_type": "code",
   "execution_count": 1,
   "id": "98318614",
   "metadata": {},
   "outputs": [],
   "source": [
    "import cv2"
   ]
  },
  {
   "cell_type": "code",
   "execution_count": 3,
   "id": "3b34f0ec",
   "metadata": {},
   "outputs": [],
   "source": [
    "body_cascade = cv2.CascadeClassifier('haarcascade_fullbody.xml')"
   ]
  },
  {
   "cell_type": "code",
   "execution_count": 18,
   "id": "f53fd99d",
   "metadata": {},
   "outputs": [],
   "source": [
    "cap = cv2.VideoCapture('people_2.mp4')\n",
    "\n",
    "while cap.isOpened():\n",
    "    ret, frame =  cap.read()\n",
    "    \n",
    "    if ret == True:\n",
    "        gray_frame = cv2.cvtColor(frame,cv2.COLOR_BGR2GRAY)\n",
    "        body= body_cascade.detectMultiScale(gray_frame,1.1,5)\n",
    "        for (x, y, w, h) in body:\n",
    "            cv2.rectangle(frame, (x, y), (x+w, y+h), (240, 170,20), thickness=2) \n",
    "        \n",
    "        cv2.imshow('video',frame)\n",
    "        \n",
    "        k = cv2.waitKey(1)\n",
    "        \n",
    "        if k == 27:\n",
    "            break\n",
    "cap.release()\n",
    "cv2.destroyAllWindows()"
   ]
  },
  {
   "cell_type": "code",
   "execution_count": null,
   "id": "81e3a105",
   "metadata": {},
   "outputs": [],
   "source": []
  }
 ],
 "metadata": {
  "kernelspec": {
   "display_name": "Python 3 (ipykernel)",
   "language": "python",
   "name": "python3"
  },
  "language_info": {
   "codemirror_mode": {
    "name": "ipython",
    "version": 3
   },
   "file_extension": ".py",
   "mimetype": "text/x-python",
   "name": "python",
   "nbconvert_exporter": "python",
   "pygments_lexer": "ipython3",
   "version": "3.11.2"
  }
 },
 "nbformat": 4,
 "nbformat_minor": 5
}
